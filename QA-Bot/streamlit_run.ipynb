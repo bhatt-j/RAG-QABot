{
  "cells": [
    {
      "cell_type": "code",
      "execution_count": 1,
      "metadata": {
        "colab": {
          "base_uri": "https://localhost:8080/"
        },
        "id": "PedwSQkvwyCB",
        "outputId": "54a2db07-5ea8-40eb-d69c-15437fe8559b"
      },
      "outputs": [
        {
          "output_type": "stream",
          "name": "stdout",
          "text": [
            "\u001b[2K     \u001b[90m━━━━━━━━━━━━━━━━━━━━━━━━━━━━━━━━━━━━━━━━\u001b[0m \u001b[32m44.3/44.3 kB\u001b[0m \u001b[31m2.3 MB/s\u001b[0m eta \u001b[36m0:00:00\u001b[0m\n",
            "\u001b[2K   \u001b[90m━━━━━━━━━━━━━━━━━━━━━━━━━━━━━━━━━━━━━━━━\u001b[0m \u001b[32m9.1/9.1 MB\u001b[0m \u001b[31m71.5 MB/s\u001b[0m eta \u001b[36m0:00:00\u001b[0m\n",
            "\u001b[2K   \u001b[90m━━━━━━━━━━━━━━━━━━━━━━━━━━━━━━━━━━━━━━━━\u001b[0m \u001b[32m6.9/6.9 MB\u001b[0m \u001b[31m92.4 MB/s\u001b[0m eta \u001b[36m0:00:00\u001b[0m\n",
            "\u001b[2K   \u001b[90m━━━━━━━━━━━━━━━━━━━━━━━━━━━━━━━━━━━━━━━━\u001b[0m \u001b[32m79.1/79.1 kB\u001b[0m \u001b[31m5.7 MB/s\u001b[0m eta \u001b[36m0:00:00\u001b[0m\n",
            "\u001b[2K   \u001b[90m━━━━━━━━━━━━━━━━━━━━━━━━━━━━━━━━━━━━━━━━\u001b[0m \u001b[32m12.0/12.0 MB\u001b[0m \u001b[31m60.0 MB/s\u001b[0m eta \u001b[36m0:00:00\u001b[0m\n",
            "\u001b[2K   \u001b[90m━━━━━━━━━━━━━━━━━━━━━━━━━━━━━━━━━━━━━━━━\u001b[0m \u001b[32m427.3/427.3 kB\u001b[0m \u001b[31m11.3 MB/s\u001b[0m eta \u001b[36m0:00:00\u001b[0m\n",
            "\u001b[2K   \u001b[90m━━━━━━━━━━━━━━━━━━━━━━━━━━━━━━━━━━━━━━━━\u001b[0m \u001b[32m87.5/87.5 kB\u001b[0m \u001b[31m6.0 MB/s\u001b[0m eta \u001b[36m0:00:00\u001b[0m\n",
            "\u001b[2K     \u001b[90m━━━━━━━━━━━━━━━━━━━━━━━━━━━━━━━━━━━━━━━━\u001b[0m \u001b[32m42.5/42.5 kB\u001b[0m \u001b[31m1.9 MB/s\u001b[0m eta \u001b[36m0:00:00\u001b[0m\n",
            "\u001b[2K     \u001b[90m━━━━━━━━━━━━━━━━━━━━━━━━━━━━━━━━━━━━━━━━\u001b[0m \u001b[32m48.2/48.2 kB\u001b[0m \u001b[31m2.4 MB/s\u001b[0m eta \u001b[36m0:00:00\u001b[0m\n",
            "\u001b[2K   \u001b[90m━━━━━━━━━━━━━━━━━━━━━━━━━━━━━━━━━━━━━━━━\u001b[0m \u001b[32m59.5/59.5 kB\u001b[0m \u001b[31m4.2 MB/s\u001b[0m eta \u001b[36m0:00:00\u001b[0m\n",
            "\u001b[2K   \u001b[90m━━━━━━━━━━━━━━━━━━━━━━━━━━━━━━━━━━━━━━━━\u001b[0m \u001b[32m5.6/5.6 MB\u001b[0m \u001b[31m61.1 MB/s\u001b[0m eta \u001b[36m0:00:00\u001b[0m\n",
            "\u001b[2K   \u001b[90m━━━━━━━━━━━━━━━━━━━━━━━━━━━━━━━━━━━━━━━━\u001b[0m \u001b[32m2.9/2.9 MB\u001b[0m \u001b[31m72.3 MB/s\u001b[0m eta \u001b[36m0:00:00\u001b[0m\n",
            "\u001b[?25h"
          ]
        }
      ],
      "source": [
        "!pip install streamlit -q\n",
        "!pip install tabula-py -q\n",
        "!pip install pinecone -q\n",
        "!pip install sentence_transformers -q\n",
        "!pip install pdfplumber -q"
      ]
    },
    {
      "cell_type": "code",
      "execution_count": 2,
      "metadata": {
        "colab": {
          "base_uri": "https://localhost:8080/"
        },
        "id": "Vc-O52PYw_OK",
        "outputId": "878c8e46-2d10-43fa-eea9-e83cbd5cbfdf"
      },
      "outputs": [
        {
          "output_type": "stream",
          "name": "stdout",
          "text": [
            "34.82.86.89\n"
          ]
        }
      ],
      "source": [
        "!wget -q -O - ipv4.icanhazip.com"
      ]
    },
    {
      "cell_type": "code",
      "execution_count": 13,
      "metadata": {
        "colab": {
          "base_uri": "https://localhost:8080/"
        },
        "id": "aRXSfLYww_4f",
        "outputId": "55545b1b-16c5-4a06-e6b0-d00a3a966f19"
      },
      "outputs": [
        {
          "output_type": "stream",
          "name": "stdout",
          "text": [
            "\n",
            "Collecting usage statistics. To deactivate, set browser.gatherUsageStats to false.\n",
            "\u001b[0m\n",
            "\u001b[1G\u001b[0K⠙\u001b[1G\u001b[0K⠹\u001b[1G\u001b[0K⠸\u001b[1G\u001b[0K⠼\u001b[0m\n",
            "\u001b[34m\u001b[1m  You can now view your Streamlit app in your browser.\u001b[0m\n",
            "\u001b[0m\n",
            "\u001b[34m  Local URL: \u001b[0m\u001b[1mhttp://localhost:8501\u001b[0m\n",
            "\u001b[34m  Network URL: \u001b[0m\u001b[1mhttp://172.28.0.12:8501\u001b[0m\n",
            "\u001b[34m  External URL: \u001b[0m\u001b[1mhttp://34.82.86.89:8501\u001b[0m\n",
            "\u001b[0m\n",
            "\u001b[1G\u001b[0K⠴\u001b[1G\u001b[0Kyour url is: https://ready-jokes-live.loca.lt\n",
            "2025-01-28 12:29:37.011842: E external/local_xla/xla/stream_executor/cuda/cuda_fft.cc:485] Unable to register cuFFT factory: Attempting to register factory for plugin cuFFT when one has already been registered\n",
            "2025-01-28 12:29:37.039838: E external/local_xla/xla/stream_executor/cuda/cuda_dnn.cc:8454] Unable to register cuDNN factory: Attempting to register factory for plugin cuDNN when one has already been registered\n",
            "2025-01-28 12:29:37.048204: E external/local_xla/xla/stream_executor/cuda/cuda_blas.cc:1452] Unable to register cuBLAS factory: Attempting to register factory for plugin cuBLAS when one has already been registered\n",
            "2025-01-28 12:29:37.069390: I tensorflow/core/platform/cpu_feature_guard.cc:210] This TensorFlow binary is optimized to use available CPU instructions in performance-critical operations.\n",
            "To enable the following instructions: AVX2 FMA, in other operations, rebuild TensorFlow with the appropriate compiler flags.\n",
            "2025-01-28 12:29:38.739164: W tensorflow/compiler/tf2tensorrt/utils/py_utils.cc:38] TF-TRT Warning: Could not find TensorRT\n",
            "jb-CONNECTED\n",
            "2025-01-28 12:29:41.633 Examining the path of torch.classes raised: Tried to instantiate class '__path__._path', but it does not exist! Ensure that it is registered via torch::class_\n",
            "jb-CONNECTED\n",
            "jb-UPLOADED\n",
            "jb-CONNECTED\n",
            "jb-UPLOADED\n",
            "jb-PROCESSING\n",
            "Failed to import jpype dependencies. Fallback to subprocess.\n",
            "No module named 'jpype'\n",
            "Got stderr: Jan 28, 2025 12:30:32 PM org.apache.pdfbox.pdmodel.font.PDTrueTypeFont <init>\n",
            "WARNING: Using fallback font 'LiberationSans-Bold' for 'TimesNewRomanPS-BoldMT'\n",
            "Jan 28, 2025 12:30:33 PM org.apache.pdfbox.pdmodel.font.PDTrueTypeFont <init>\n",
            "WARNING: Using fallback font 'LiberationSans' for 'TimesNewRomanPSMT'\n",
            "Jan 28, 2025 12:30:33 PM org.apache.pdfbox.pdmodel.font.PDTrueTypeFont <init>\n",
            "WARNING: Using fallback font 'LiberationSans' for 'TimesNewRomanPS-ItalicMT'\n",
            "Jan 28, 2025 12:30:36 PM org.apache.pdfbox.pdmodel.font.PDTrueTypeFont <init>\n",
            "WARNING: Using fallback font 'LiberationSans-Bold' for 'TimesNewRomanPS-BoldMT'\n",
            "Jan 28, 2025 12:30:36 PM org.apache.pdfbox.pdmodel.font.PDTrueTypeFont <init>\n",
            "WARNING: Using fallback font 'LiberationSans' for 'TimesNewRomanPSMT'\n",
            "Jan 28, 2025 12:30:36 PM org.apache.pdfbox.pdmodel.font.PDTrueTypeFont <init>\n",
            "WARNING: Using fallback font 'LiberationSans' for 'TimesNewRomanPS-ItalicMT'\n",
            "\n",
            "==>> Page 40: 2.24 FUNCTION WISE CLASSIFICATION OF CONDENSED CONSOLIDATED STATEMENT OF PROFIT AND LOSS\n",
            "Got stderr: Jan 28, 2025 12:30:51 PM org.apache.pdfbox.pdmodel.font.PDTrueTypeFont <init>\n",
            "WARNING: Using fallback font 'LiberationSans-Bold' for 'TimesNewRomanPS-BoldMT'\n",
            "Jan 28, 2025 12:30:51 PM org.apache.pdfbox.pdmodel.font.PDTrueTypeFont <init>\n",
            "WARNING: Using fallback font 'LiberationSans' for 'TimesNewRomanPSMT'\n",
            "Jan 28, 2025 12:30:51 PM org.apache.pdfbox.pdmodel.font.PDTrueTypeFont <init>\n",
            "WARNING: Using fallback font 'LiberationSans' for 'TimesNewRomanPS-ItalicMT'\n",
            "Jan 28, 2025 12:30:53 PM org.apache.pdfbox.pdmodel.font.PDTrueTypeFont <init>\n",
            "WARNING: Using fallback font 'LiberationSans-Bold' for 'TimesNewRomanPS-BoldMT'\n",
            "Jan 28, 2025 12:30:53 PM org.apache.pdfbox.pdmodel.font.PDTrueTypeFont <init>\n",
            "WARNING: Using fallback font 'LiberationSans' for 'TimesNewRomanPSMT'\n",
            "Jan 28, 2025 12:30:53 PM org.apache.pdfbox.pdmodel.font.PDTrueTypeFont <init>\n",
            "WARNING: Using fallback font 'LiberationSans' for 'TimesNewRomanPS-ItalicMT'\n",
            "\n",
            "jb - Data successfully upserted into Pinecone!\n",
            "2025-01-28 12:31:00.160 Examining the path of torch.classes raised: Tried to instantiate class '__path__._path', but it does not exist! Ensure that it is registered via torch::class_\n",
            "jb-CONNECTED\n",
            "jb-UPLOADED\n",
            "<pinecone.data.index.Index object at 0x7bca6b3927d0>\n",
            "jb-query retrieval\n",
            "ID: 50, Score: 0.805941939, Metadata: {'Description': 'Gross profit', 'Note No.': 0.0, 'Three months ended March 31(2023)': '11,430', 'Three months ended March 31(2024)': '11,175', 'Year ended March 31(2023)': '44,414', 'Year ended March 31(2024)': '46,257'}\n",
            "ID: 55, Score: 0.752768755, Metadata: {'Description': 'Operating profit', 'Note No.': 0.0, 'Three months ended March 31(2023)': '7,877', 'Three months ended March 31(2024)': '7,621', 'Year ended March 31(2023)': '30,905', 'Year ended March 31(2024)': '31,747'}\n",
            "ID: 58, Score: 0.746268094, Metadata: {'Description': 'Profit before tax', 'Note No.': 0.0, 'Three months ended March 31(2023)': '8,466', 'Three months ended March 31(2024)': '10,240', 'Year ended March 31(2023)': '33,322', 'Year ended March 31(2024)': '35,988'}\n",
            "2025-01-28 12:31:06.544 Examining the path of torch.classes raised: Tried to instantiate class '__path__._path', but it does not exist! Ensure that it is registered via torch::class_\n",
            "jb-CONNECTED\n",
            "2025-01-28 12:33:00.098 Examining the path of torch.classes raised: Tried to instantiate class '__path__._path', but it does not exist! Ensure that it is registered via torch::class_\n",
            "jb-CONNECTED\n",
            "jb-UPLOADED\n",
            "jb-CONNECTED\n",
            "jb-UPLOADED\n",
            "jb-PROCESSING\n",
            "Got stderr: Jan 28, 2025 12:34:16 PM org.apache.pdfbox.pdmodel.font.PDTrueTypeFont <init>\n",
            "WARNING: Using fallback font 'LiberationSans-Bold' for 'TimesNewRomanPS-BoldMT'\n",
            "Jan 28, 2025 12:34:16 PM org.apache.pdfbox.pdmodel.font.PDTrueTypeFont <init>\n",
            "WARNING: Using fallback font 'LiberationSans' for 'TimesNewRomanPSMT'\n",
            "Jan 28, 2025 12:34:16 PM org.apache.pdfbox.pdmodel.font.PDTrueTypeFont <init>\n",
            "WARNING: Using fallback font 'LiberationSans' for 'TimesNewRomanPS-ItalicMT'\n",
            "Jan 28, 2025 12:34:20 PM org.apache.pdfbox.pdmodel.font.PDTrueTypeFont <init>\n",
            "WARNING: Using fallback font 'LiberationSans-Bold' for 'TimesNewRomanPS-BoldMT'\n",
            "Jan 28, 2025 12:34:20 PM org.apache.pdfbox.pdmodel.font.PDTrueTypeFont <init>\n",
            "WARNING: Using fallback font 'LiberationSans' for 'TimesNewRomanPSMT'\n",
            "Jan 28, 2025 12:34:20 PM org.apache.pdfbox.pdmodel.font.PDTrueTypeFont <init>\n",
            "WARNING: Using fallback font 'LiberationSans' for 'TimesNewRomanPS-ItalicMT'\n",
            "\n",
            "==>> Page 40: 2.24 FUNCTION WISE CLASSIFICATION OF CONDENSED CONSOLIDATED STATEMENT OF PROFIT AND LOSS\n",
            "Got stderr: Jan 28, 2025 12:34:35 PM org.apache.pdfbox.pdmodel.font.PDTrueTypeFont <init>\n",
            "WARNING: Using fallback font 'LiberationSans-Bold' for 'TimesNewRomanPS-BoldMT'\n",
            "Jan 28, 2025 12:34:35 PM org.apache.pdfbox.pdmodel.font.PDTrueTypeFont <init>\n",
            "WARNING: Using fallback font 'LiberationSans' for 'TimesNewRomanPSMT'\n",
            "Jan 28, 2025 12:34:35 PM org.apache.pdfbox.pdmodel.font.PDTrueTypeFont <init>\n",
            "WARNING: Using fallback font 'LiberationSans' for 'TimesNewRomanPS-ItalicMT'\n",
            "Jan 28, 2025 12:34:37 PM org.apache.pdfbox.pdmodel.font.PDTrueTypeFont <init>\n",
            "WARNING: Using fallback font 'LiberationSans-Bold' for 'TimesNewRomanPS-BoldMT'\n",
            "Jan 28, 2025 12:34:37 PM org.apache.pdfbox.pdmodel.font.PDTrueTypeFont <init>\n",
            "WARNING: Using fallback font 'LiberationSans' for 'TimesNewRomanPSMT'\n",
            "Jan 28, 2025 12:34:37 PM org.apache.pdfbox.pdmodel.font.PDTrueTypeFont <init>\n",
            "WARNING: Using fallback font 'LiberationSans' for 'TimesNewRomanPS-ItalicMT'\n",
            "\n",
            "jb - Data successfully upserted into Pinecone!\n",
            "jb-CONNECTED\n",
            "jb-UPLOADED\n",
            "<pinecone.data.index.Index object at 0x7bca690ac7d0>\n",
            "jb-query retrieval\n",
            "ID: 50, Score: 0.805941939, Metadata: {'Description': 'Gross profit', 'Note No.': 0.0, 'Three months ended March 31(2023)': '11,430', 'Three months ended March 31(2024)': '11,175', 'Year ended March 31(2023)': '44,414', 'Year ended March 31(2024)': '46,257'}\n",
            "ID: 55, Score: 0.752768755, Metadata: {'Description': 'Operating profit', 'Note No.': 0.0, 'Three months ended March 31(2023)': '7,877', 'Three months ended March 31(2024)': '7,621', 'Year ended March 31(2023)': '30,905', 'Year ended March 31(2024)': '31,747'}\n",
            "ID: 58, Score: 0.746268094, Metadata: {'Description': 'Profit before tax', 'Note No.': 0.0, 'Three months ended March 31(2023)': '8,466', 'Three months ended March 31(2024)': '10,240', 'Year ended March 31(2023)': '33,322', 'Year ended March 31(2024)': '35,988'}\n",
            "jb-CONNECTED\n",
            "jb-UPLOADED\n",
            "<pinecone.data.index.Index object at 0x7bca69003250>\n",
            "jb-query retrieval\n",
            "ID: 56, Score: 0.777326107, Metadata: {'Description': 'Other income, net', 'Note No.': 2.17, 'Three months ended March 31(2023)': '671', 'Three months ended March 31(2024)': '2,729', 'Year ended March 31(2023)': '2,701', 'Year ended March 31(2024)': '4,711'}\n",
            "ID: 2, Score: 0.777326107, Metadata: {'Description': 'Other income, net', 'Note No.': 2.17, 'Three months ended March 31(2023)': '671', 'Three months ended March 31(2024)': '2,729', 'Year ended March 31(2023)': '2,701', 'Year ended March 31(2024)': '4,711'}\n",
            "ID: 20, Score: 0.727687716, Metadata: {'Description': 'Other comprehensive income', 'Note No.': 0.0, 'Three months ended March 31(2023)': 0.0, 'Three months ended March 31(2024)': 0.0, 'Year ended March 31(2023)': 0.0, 'Year ended March 31(2024)': 0.0}\n",
            "2025-01-28 12:35:43.673 Serialization of dataframe to Arrow table was unsuccessful due to: (\"Expected bytes, got a 'float' object\", 'Conversion failed for column Three months ended March 31(2023) with type object'). Applying automatic fixes for column types to make the dataframe Arrow-compatible.\n",
            "jb-CONNECTED\n",
            "jb-UPLOADED\n",
            "<pinecone.data.index.Index object at 0x7bca69000fd0>\n",
            "jb-query retrieval\n",
            "ID: 3, Score: 0.771842301, Metadata: {'Description': 'Total income', 'Note No.': 0.0, 'Three months ended March 31(2023)': '38,112', 'Three months ended March 31(2024)': '40,652', 'Year ended March 31(2023)': '149,468', 'Year ended March 31(2024)': '158,381'}\n",
            "ID: 20, Score: 0.753095925, Metadata: {'Description': 'Other comprehensive income', 'Note No.': 0.0, 'Three months ended March 31(2023)': 0.0, 'Three months ended March 31(2024)': 0.0, 'Year ended March 31(2023)': 0.0, 'Year ended March 31(2024)': 0.0}\n",
            "ID: 63, Score: 0.753095925, Metadata: {'Description': 'Other comprehensive income', 'Note No.': 0.0, 'Three months ended March 31(2023)': 0.0, 'Three months ended March 31(2024)': 0.0, 'Year ended March 31(2023)': 0.0, 'Year ended March 31(2024)': 0.0}\n",
            "2025-01-28 12:36:20.238 Serialization of dataframe to Arrow table was unsuccessful due to: (\"Expected bytes, got a 'float' object\", 'Conversion failed for column Three months ended March 31(2023) with type object'). Applying automatic fixes for column types to make the dataframe Arrow-compatible.\n",
            "jb-CONNECTED\n",
            "jb-UPLOADED\n",
            "<pinecone.data.index.Index object at 0x7bca69180fd0>\n",
            "jb-query retrieval\n",
            "ID: 13, Score: 0.80104816, Metadata: {'Description': 'Other expenses', 'Note No.': 2.18, 'Three months ended March 31(2023)': '1,146', 'Three months ended March 31(2024)': '985', 'Year ended March 31(2023)': '4,392', 'Year ended March 31(2024)': '4,716'}\n",
            "ID: 14, Score: 0.782189667, Metadata: {'Description': 'Total expenses', 'Note No.': 0.0, 'Three months ended March 31(2023)': '29,646', 'Three months ended March 31(2024)': '30,412', 'Year ended March 31(2023)': '116,146', 'Year ended March 31(2024)': '122,393'}\n",
            "ID: 54, Score: 0.751672447, Metadata: {'Description': 'Total operating expenses', 'Note No.': 0.0, 'Three months ended March 31(2023)': '3,553', 'Three months ended March 31(2024)': '3,554', 'Year ended March 31(2023)': '13,509', 'Year ended March 31(2024)': '14,510'}\n",
            "jb-CONNECTED\n",
            "jb-UPLOADED\n",
            "<pinecone.data.index.Index object at 0x7bca7e45c150>\n",
            "jb-query retrieval\n",
            "ID: 55, Score: 0.475629, Metadata: {'Description': 'Operating profit', 'Note No.': 0.0, 'Three months ended March 31(2023)': '7,877', 'Three months ended March 31(2024)': '7,621', 'Year ended March 31(2023)': '30,905', 'Year ended March 31(2024)': '31,747'}\n",
            "ID: 54, Score: 0.472110957, Metadata: {'Description': 'Total operating expenses', 'Note No.': 0.0, 'Three months ended March 31(2023)': '3,553', 'Three months ended March 31(2024)': '3,554', 'Year ended March 31(2023)': '13,509', 'Year ended March 31(2024)': '14,510'}\n",
            "ID: 51, Score: 0.470182776, Metadata: {'Description': 'Operating expenses', 'Note No.': 0.0, 'Three months ended March 31(2023)': 0.0, 'Three months ended March 31(2024)': 0.0, 'Year ended March 31(2023)': 0.0, 'Year ended March 31(2024)': 0.0}\n",
            "2025-01-28 12:37:11.255 Serialization of dataframe to Arrow table was unsuccessful due to: (\"Expected bytes, got a 'float' object\", 'Conversion failed for column Three months ended March 31(2023) with type object'). Applying automatic fixes for column types to make the dataframe Arrow-compatible.\n",
            "jb-CONNECTED\n",
            "jb-UPLOADED\n",
            "<pinecone.data.index.Index object at 0x7bca833d0b90>\n",
            "jb-query retrieval\n",
            "ID: 5, Score: 0.571730614, Metadata: {'Description': 'Employee benefit expenses', 'Note No.': 2.18, 'Three months ended March 31(2023)': '20,311', 'Three months ended March 31(2024)': '20,393', 'Year ended March 31(2023)': '78,359', 'Year ended March 31(2024)': '82,620'}\n",
            "ID: 54, Score: 0.523293674, Metadata: {'Description': 'Total operating expenses', 'Note No.': 0.0, 'Three months ended March 31(2023)': '3,553', 'Three months ended March 31(2024)': '3,554', 'Year ended March 31(2023)': '13,509', 'Year ended March 31(2024)': '14,510'}\n",
            "ID: 53, Score: 0.495724142, Metadata: {'Description': 'General and administration expenses', 'Note No.': 0.0, 'Three months ended March 31(2023)': '1,894', 'Three months ended March 31(2024)': '1,819', 'Year ended March 31(2023)': '7,260', 'Year ended March 31(2024)': '7,537'}\n",
            "jb-CONNECTED\n",
            "jb-UPLOADED\n",
            "<pinecone.data.index.Index object at 0x7bca6bb568d0>\n",
            "jb-query retrieval\n",
            "ID: 10, Score: 0.847180426, Metadata: {'Description': 'Consultancy and professional charges', 'Note No.': 0.0, 'Three months ended March 31(2023)': '387', 'Three months ended March 31(2024)': '489', 'Year ended March 31(2023)': '1,684', 'Year ended March 31(2024)': '1,726'}\n",
            "ID: 9, Score: 0.43759656, Metadata: {'Description': 'Communication expenses', 'Note No.': 0.0, 'Three months ended March 31(2023)': '171', 'Three months ended March 31(2024)': '147', 'Year ended March 31(2023)': '713', 'Year ended March 31(2024)': '677'}\n",
            "ID: 53, Score: 0.4141877, Metadata: {'Description': 'General and administration expenses', 'Note No.': 0.0, 'Three months ended March 31(2023)': '1,894', 'Three months ended March 31(2024)': '1,819', 'Year ended March 31(2023)': '7,260', 'Year ended March 31(2024)': '7,537'}\n",
            "jb-CONNECTED\n",
            "jb-UPLOADED\n",
            "<pinecone.data.index.Index object at 0x7bca6b4be890>\n",
            "jb-query retrieval\n",
            "ID: 78, Score: 0.36146009, Metadata: {'Description': 0.0, 'Note No.': 0.0, 'Three months ended March 31(2023)': '6,134', 'Three months ended March 31(2024)': '7,975', 'Year ended March 31(2023)': '24,108', 'Year ended March 31(2024)': '26,248'}\n",
            "ID: 35, Score: 0.36146009, Metadata: {'Description': 0.0, 'Note No.': 0.0, 'Three months ended March 31(2023)': '6,134', 'Three months ended March 31(2024)': '7,975', 'Year ended March 31(2023)': '24,108', 'Year ended March 31(2024)': '26,248'}\n",
            "ID: 39, Score: 0.357419044, Metadata: {'Description': 0.0, 'Note No.': 0.0, 'Three months ended March 31(2023)': '6,283', 'Three months ended March 31(2024)': '7,823', 'Year ended March 31(2023)': '24,622', 'Year ended March 31(2024)': '26,768'}\n",
            "jb-CONNECTED\n",
            "jb-UPLOADED\n",
            "<pinecone.data.index.Index object at 0x7bca83176290>\n",
            "jb-query retrieval\n",
            "ID: 17, Score: 0.694690585, Metadata: {'Description': 'Current tax', 'Note No.': 2.15, 'Three months ended March 31(2023)': '2,260', 'Three months ended March 31(2024)': '1,173', 'Year ended March 31(2023)': '9,287', 'Year ended March 31(2024)': '8,390'}\n",
            "ID: 60, Score: 0.694690585, Metadata: {'Description': 'Current tax', 'Note No.': 2.15, 'Three months ended March 31(2023)': '2,260', 'Three months ended March 31(2024)': '1,173', 'Year ended March 31(2023)': '9,287', 'Year ended March 31(2024)': '8,390'}\n",
            "ID: 61, Score: 0.573192835, Metadata: {'Description': 'Deferred tax', 'Note No.': 2.15, 'Three months ended March 31(2023)': '72', 'Three months ended March 31(2024)': '1,092', 'Year ended March 31(2023)': 0.0, 'Year ended March 31(2024)': '1,350(73)'}\n",
            "2025-01-28 12:39:27.838 Serialization of dataframe to Arrow table was unsuccessful due to: (\"Expected bytes, got a 'float' object\", 'Conversion failed for column Year ended March 31(2023) with type object'). Applying automatic fixes for column types to make the dataframe Arrow-compatible.\n",
            "jb-CONNECTED\n",
            "jb-UPLOADED\n",
            "<pinecone.data.index.Index object at 0x7bca83415fd0>\n",
            "jb-query retrieval\n",
            "ID: 15, Score: 0.756400704, Metadata: {'Description': 'Profit before tax', 'Note No.': 0.0, 'Three months ended March 31(2023)': '8,466', 'Three months ended March 31(2024)': '10,240', 'Year ended March 31(2023)': '33,322', 'Year ended March 31(2024)': '35,988'}\n",
            "ID: 58, Score: 0.756400704, Metadata: {'Description': 'Profit before tax', 'Note No.': 0.0, 'Three months ended March 31(2023)': '8,466', 'Three months ended March 31(2024)': '10,240', 'Year ended March 31(2023)': '33,322', 'Year ended March 31(2024)': '35,988'}\n",
            "ID: 55, Score: 0.540619195, Metadata: {'Description': 'Operating profit', 'Note No.': 0.0, 'Three months ended March 31(2023)': '7,877', 'Three months ended March 31(2024)': '7,621', 'Year ended March 31(2023)': '30,905', 'Year ended March 31(2024)': '31,747'}\n",
            "\u001b[34m  Stopping...\u001b[0m\n",
            "^C\n"
          ]
        }
      ],
      "source": [
        "! streamlit run frontend_qabot.py & npx localtunnel --port 8501"
      ]
    }
  ],
  "metadata": {
    "colab": {
      "provenance": []
    },
    "kernelspec": {
      "display_name": "Python 3",
      "name": "python3"
    },
    "language_info": {
      "name": "python"
    }
  },
  "nbformat": 4,
  "nbformat_minor": 0
}